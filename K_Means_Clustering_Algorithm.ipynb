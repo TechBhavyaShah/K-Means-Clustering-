{
  "nbformat": 4,
  "nbformat_minor": 0,
  "metadata": {
    "colab": {
      "name": "K-Means Clustering Algorithm.ipynb",
      "provenance": [],
      "authorship_tag": "ABX9TyM/AGCNq/2v0qUxXyV6qXBw",
      "include_colab_link": true
    },
    "kernelspec": {
      "name": "python3",
      "display_name": "Python 3"
    },
    "language_info": {
      "name": "python"
    }
  },
  "cells": [
    {
      "cell_type": "markdown",
      "metadata": {
        "id": "view-in-github",
        "colab_type": "text"
      },
      "source": [
        "<a href=\"https://colab.research.google.com/github/TechBhavyaShah/K-Means-Clustering-/blob/main/K_Means_Clustering_Algorithm.ipynb\" target=\"_parent\"><img src=\"https://colab.research.google.com/assets/colab-badge.svg\" alt=\"Open In Colab\"/></a>"
      ]
    },
    {
      "cell_type": "markdown",
      "source": [
        "# K-Means Clusterring Algorithm"
      ],
      "metadata": {
        "id": "WZpBvPRYChsQ"
      }
    },
    {
      "cell_type": "code",
      "execution_count": 53,
      "metadata": {
        "id": "TM3i5P8SCCHC"
      },
      "outputs": [],
      "source": [
        "import numpy as np\n",
        "from scipy.spatial.distance import cdist \n",
        "from sklearn.datasets import load_digits\n",
        "import matplotlib.pyplot as plt"
      ]
    },
    {
      "cell_type": "code",
      "source": [
        " #Pre-define the Points\n",
        "x=np.array([[5.9,3.2],[4.6,2.9],[6.2,2.8],[4.7,3.2],[5.5,4.2],[5.0,3.0],[4.9,3.1],[6.7,3.1],[5.1,3.8],[6.0,3.0]]) \n"
      ],
      "metadata": {
        "id": "mnIlem5bColB"
      },
      "execution_count": 54,
      "outputs": []
    },
    {
      "cell_type": "code",
      "source": [
        "#In K-means we need to Pre-define the number of Clusters. Its the basic criteria of K-Means Algorithm\n",
        "k=3      #number of Centroids\n"
      ],
      "metadata": {
        "id": "P-NzJ-nMCocp"
      },
      "execution_count": 55,
      "outputs": []
    },
    {
      "cell_type": "code",
      "source": [
        "# We are going to use Euclidean distance in this code. We can Use any other distance function as well!\n",
        "\n",
        "def kmeans(x,k,centroids, no_of_iterations):\n",
        "    # centroids = np.array([[6.2,3.2],[6.6,3.7],[6.5,3.0]])    #centroids\n",
        "    distances=[]\n",
        "\n",
        "\n",
        "    distances = cdist(x, centroids ,'euclidean') #Calculating Euclidean Distance \n",
        "\n",
        "    points = np.array([np.argmin(i) for i in distances]) \n",
        "\n",
        "    for _ in range(no_of_iterations): \n",
        "        centroids = []\n",
        "        for idx in range(k):\n",
        "            #Updating Centroids by taking mean of Cluster it belongs to\n",
        "            temp_cent = x[points==idx].mean(axis=0) \n",
        "            centroids.append(temp_cent)\n",
        " \n",
        "        centroids = np.vstack(centroids) #Updated Centroids \n",
        "        print(centroids,no_of_iterations)\n",
        "        distances = cdist(x, centroids ,'euclidean')\n",
        "        points = np.array([np.argmin(i) for i in distances])\n",
        "        print(points)\n",
        "    return points, centroids\n",
        "\n"
      ],
      "metadata": {
        "id": "ZeOlMOLzDAEx"
      },
      "execution_count": 56,
      "outputs": []
    },
    {
      "cell_type": "code",
      "source": [
        "# Calling the function and Printing the results\n",
        "centroids = np.array([[6.2,3.2],[6.6,3.7],[6.5,3.0]]) \n",
        "label,centroids = kmeans(x,k,centroids,10)\n"
      ],
      "metadata": {
        "colab": {
          "base_uri": "https://localhost:8080/"
        },
        "id": "eikSTXAODQvH",
        "outputId": "9150f867-f2dd-4a87-ab47-de40620c5d54"
      },
      "execution_count": 57,
      "outputs": [
        {
          "output_type": "stream",
          "name": "stdout",
          "text": [
            "[[5.17142857 3.17142857]\n",
            " [5.5        4.2       ]\n",
            " [6.45       2.95      ]] 10\n",
            "[2 0 2 0 1 0 0 2 1 2]\n",
            "[[4.8   3.05 ]\n",
            " [5.3   4.   ]\n",
            " [6.2   3.025]] 10\n",
            "[2 0 2 0 1 0 0 2 1 2]\n",
            "[[4.8   3.05 ]\n",
            " [5.3   4.   ]\n",
            " [6.2   3.025]] 10\n",
            "[2 0 2 0 1 0 0 2 1 2]\n",
            "[[4.8   3.05 ]\n",
            " [5.3   4.   ]\n",
            " [6.2   3.025]] 10\n",
            "[2 0 2 0 1 0 0 2 1 2]\n",
            "[[4.8   3.05 ]\n",
            " [5.3   4.   ]\n",
            " [6.2   3.025]] 10\n",
            "[2 0 2 0 1 0 0 2 1 2]\n",
            "[[4.8   3.05 ]\n",
            " [5.3   4.   ]\n",
            " [6.2   3.025]] 10\n",
            "[2 0 2 0 1 0 0 2 1 2]\n",
            "[[4.8   3.05 ]\n",
            " [5.3   4.   ]\n",
            " [6.2   3.025]] 10\n",
            "[2 0 2 0 1 0 0 2 1 2]\n",
            "[[4.8   3.05 ]\n",
            " [5.3   4.   ]\n",
            " [6.2   3.025]] 10\n",
            "[2 0 2 0 1 0 0 2 1 2]\n",
            "[[4.8   3.05 ]\n",
            " [5.3   4.   ]\n",
            " [6.2   3.025]] 10\n",
            "[2 0 2 0 1 0 0 2 1 2]\n",
            "[[4.8   3.05 ]\n",
            " [5.3   4.   ]\n",
            " [6.2   3.025]] 10\n",
            "[2 0 2 0 1 0 0 2 1 2]\n"
          ]
        }
      ]
    },
    {
      "cell_type": "code",
      "source": [
        "#Visualize the results\n",
        "plt.scatter(centroids[0][0],centroids[0][1],color='red')\n",
        "plt.scatter(centroids[1][0],centroids[1][1],color='green')\n",
        "plt.scatter(centroids[2][0],centroids[2][1],color='blue')\n",
        "u_labels = np.unique(label)\n",
        "colors = ['red','green','blue']\n",
        "j=0\n",
        "for i in u_labels:\n",
        "    plt.scatter(x[label == i , 0] , x[label == i , 1] , marker='D',label = i,color=colors[j])\n",
        "    j+=1\n",
        "\n",
        "plt.legend()\n",
        "plt.show()"
      ],
      "metadata": {
        "colab": {
          "base_uri": "https://localhost:8080/",
          "height": 265
        },
        "id": "BYqUr9BLDc0H",
        "outputId": "785a38b8-1e45-48f5-a258-f5a68513dc42"
      },
      "execution_count": 58,
      "outputs": [
        {
          "output_type": "display_data",
          "data": {
            "image/png": "[encoded data removed]",
            "text/plain": [
              "<Figure size 432x288 with 1 Axes>"
            ]
          },
          "metadata": {
            "needs_background": "light"
          }
        }
      ]
    }
  ]
}